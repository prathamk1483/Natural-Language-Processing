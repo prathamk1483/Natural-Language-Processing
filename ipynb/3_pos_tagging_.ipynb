{
  "nbformat": 4,
  "nbformat_minor": 0,
  "metadata": {
    "colab": {
      "provenance": []
    },
    "kernelspec": {
      "name": "python3",
      "display_name": "Python 3"
    },
    "language_info": {
      "name": "python"
    }
  },
  "cells": [
    {
      "cell_type": "code",
      "execution_count": null,
      "metadata": {
        "id": "gDTQwe8DR8i8"
      },
      "outputs": [],
      "source": [
        "import spacy\n",
        "from collections import Counter\n",
        "\n",
        "# Load English tokenizer, tagger, parser, NER, and word vectors\n",
        "nlp = spacy.load(\"en_core_web_sm\")\n",
        "\n",
        "# Sample text for demonstration\n",
        "text = \"\"\"\n",
        "Natural language processing (NLP) is a subfield of linguistics, computer science, and artificial intelligence concerned with the interactions between computers and human language, in particular how to program computers to process and analyze large amounts of natural language data. Challenges in natural language processing frequently involve speech recognition, natural language understanding, and natural language generation.\n",
        "\"\"\"\n",
        "\n",
        "# Process the text with spaCy\n",
        "doc = nlp(text)\n",
        "\n",
        "# Perform POS tagging and count POS tags\n",
        "pos_tags = Counter()\n",
        "for token in doc:\n",
        "    pos_tags[token.pos_] += 1\n",
        "\n",
        "# Print frequency list of POS tags\n",
        "print(\"Frequency of POS tags:\")\n",
        "for tag, count in pos_tags.items():\n",
        "    print(f\"{tag}: {count}\")\n"
      ]
    }
  ]
}