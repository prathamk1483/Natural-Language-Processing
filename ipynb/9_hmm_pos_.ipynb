{
  "nbformat": 4,
  "nbformat_minor": 0,
  "metadata": {
    "colab": {
      "provenance": []
    },
    "kernelspec": {
      "name": "python3",
      "display_name": "Python 3"
    },
    "language_info": {
      "name": "python"
    }
  },
  "cells": [
    {
      "cell_type": "code",
      "source": [
        "import nltk\n",
        "nltk.download('treebank')"
      ],
      "metadata": {
        "colab": {
          "base_uri": "https://localhost:8080/"
        },
        "id": "C8M6yhZ2chpa",
        "outputId": "082a5f1b-7dd8-4d08-f167-a2c9d3a47ecd"
      },
      "execution_count": 4,
      "outputs": [
        {
          "output_type": "stream",
          "name": "stderr",
          "text": [
            "[nltk_data] Downloading package treebank to /root/nltk_data...\n",
            "[nltk_data]   Unzipping corpora/treebank.zip.\n"
          ]
        },
        {
          "output_type": "execute_result",
          "data": {
            "text/plain": [
              "True"
            ]
          },
          "metadata": {},
          "execution_count": 4
        }
      ]
    },
    {
      "cell_type": "code",
      "execution_count": 13,
      "metadata": {
        "colab": {
          "base_uri": "https://localhost:8080/"
        },
        "id": "gDTQwe8DR8i8",
        "outputId": "d03e4c02-ecd4-42c1-edd0-e9d2bb8b5854"
      },
      "outputs": [
        {
          "output_type": "stream",
          "name": "stdout",
          "text": [
            "3914\n"
          ]
        },
        {
          "output_type": "stream",
          "name": "stderr",
          "text": [
            "<ipython-input-13-bda2b0e9c29d>:15: DeprecationWarning: \n",
            "  Function evaluate() has been deprecated.  Use accuracy(gold)\n",
            "  instead.\n",
            "  test_accuracy = hmm_tagger.evaluate(test_data)\n"
          ]
        },
        {
          "output_type": "stream",
          "name": "stdout",
          "text": [
            "Test accuracy: 0.41872398102430053\n"
          ]
        }
      ],
      "source": [
        "# import nltk\n",
        "\n",
        "# Load the Penn Treebank dataset\n",
        "corpus = nltk.corpus.treebank.tagged_sents()\n",
        "\n",
        "print(len(corpus))\n",
        "# Split the dataset into training and test sets\n",
        "train_data = corpus[:3500]\n",
        "test_data = corpus[3500:]\n",
        "\n",
        "# Train an HMM POS tagger\n",
        "hmm_tagger = nltk.hmm.HiddenMarkovModelTrainer().train_supervised(train_data)\n",
        "\n",
        "# Evaluate the tagger on the test data\n",
        "test_accuracy = hmm_tagger.evaluate(test_data)\n",
        "\n",
        "print(f\"Test accuracy: {test_accuracy}\")"
      ]
    },
    {
      "cell_type": "code",
      "source": [
        "def pos_tag(sentence, tagger):\n",
        "    tokens = nltk.tokenize.word_tokenize(sentence)\n",
        "    tagged = tagger.tag(tokens)\n",
        "    return tagged"
      ],
      "metadata": {
        "id": "D_WKQ66_cCkl"
      },
      "execution_count": 14,
      "outputs": []
    },
    {
      "cell_type": "code",
      "source": [
        "import nltk\n",
        "nltk.download('punkt')"
      ],
      "metadata": {
        "colab": {
          "base_uri": "https://localhost:8080/"
        },
        "id": "PbJ1f4r-cC9_",
        "outputId": "a1318539-5d8e-4f4c-fb2d-a113a0e2d217"
      },
      "execution_count": 15,
      "outputs": [
        {
          "output_type": "stream",
          "name": "stderr",
          "text": [
            "[nltk_data] Downloading package punkt to /root/nltk_data...\n",
            "[nltk_data]   Package punkt is already up-to-date!\n"
          ]
        },
        {
          "output_type": "execute_result",
          "data": {
            "text/plain": [
              "True"
            ]
          },
          "metadata": {},
          "execution_count": 15
        }
      ]
    },
    {
      "cell_type": "code",
      "source": [
        "user_input = input(\"Enter the sentence to tag: \")\n",
        "print(pos_tag(user_input, hmm_tagger))"
      ],
      "metadata": {
        "colab": {
          "base_uri": "https://localhost:8080/"
        },
        "id": "6LImQgiTcEl7",
        "outputId": "7ac3c300-db60-48d4-97f5-67d0174efdf1"
      },
      "execution_count": 16,
      "outputs": [
        {
          "output_type": "stream",
          "name": "stdout",
          "text": [
            "Enter the sentence to tag: Microsoft is not hiring engineers\n",
            "[('Microsoft', 'NNP'), ('is', 'NNP'), ('not', 'NNP'), ('hiring', 'NNP'), ('engineers', 'NNP')]\n"
          ]
        }
      ]
    },
    {
      "cell_type": "code",
      "source": [
        "import nltk\n",
        "\n",
        "# Train an HMM POS tagger on the Brown corpus\n",
        "nltk.download('brown')\n",
        "brown_corpus = nltk.corpus.brown.tagged_sents()\n",
        "hmm_tagger = nltk.HiddenMarkovModelTagger.train(brown_corpus)\n",
        "\n",
        "# Test the tagger on a sample sentence\n",
        "sentence = \"The quick brown fox jumps over the lazy dog\"\n",
        "tagged_sentence = hmm_tagger.tag(nltk.word_tokenize(sentence))\n",
        "print(tagged_sentence)\n"
      ],
      "metadata": {
        "colab": {
          "base_uri": "https://localhost:8080/"
        },
        "id": "y8FVYUX4e0_V",
        "outputId": "f23385c1-323f-49c4-f894-aeb7b7992120"
      },
      "execution_count": 19,
      "outputs": [
        {
          "output_type": "stream",
          "name": "stderr",
          "text": [
            "[nltk_data] Downloading package brown to /root/nltk_data...\n",
            "[nltk_data]   Package brown is already up-to-date!\n"
          ]
        },
        {
          "output_type": "stream",
          "name": "stdout",
          "text": [
            "[('The', 'AT'), ('quick', 'JJ'), ('brown', 'JJ'), ('fox', 'NN'), ('jumps', 'VBZ'), ('over', 'IN'), ('the', 'AT'), ('lazy', 'JJ'), ('dog', 'NN')]\n"
          ]
        }
      ]
    },
    {
      "cell_type": "code",
      "source": [],
      "metadata": {
        "id": "Lng1dDlMfI0W"
      },
      "execution_count": 19,
      "outputs": []
    },
    {
      "cell_type": "code",
      "source": [
        "# to see the tags in the tagset\n",
        "\n",
        "import nltk\n",
        "nltk.download('treebank')\n",
        "nltk.download('tagsets')\n",
        "# Get the POS tagset mapping\n",
        "tagset_mapping = nltk.data.load('help/tagsets/upenn_tagset.pickle')\n",
        "\n",
        "# Print the POS tags and their descriptions\n",
        "for tag, description in tagset_mapping.items():\n",
        "    print(f\"{tag}: {description}\")\n"
      ],
      "metadata": {
        "id": "IokVnNs0ffPC"
      },
      "execution_count": null,
      "outputs": []
    }
  ]
}