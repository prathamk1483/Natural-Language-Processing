{
  "nbformat": 4,
  "nbformat_minor": 0,
  "metadata": {
    "colab": {
      "provenance": []
    },
    "kernelspec": {
      "name": "python3",
      "display_name": "Python 3"
    },
    "language_info": {
      "name": "python"
    }
  },
  "cells": [
    {
      "cell_type": "code",
      "execution_count": null,
      "metadata": {
        "id": "gDTQwe8DR8i8"
      },
      "outputs": [],
      "source": [
        "import pandas as pd\n",
        "import re\n",
        "import nltk\n",
        "from nltk.tokenize import word_tokenize\n",
        "from nltk.corpus import stopwords\n",
        "from sklearn.model_selection import train_test_split\n",
        "from sklearn.feature_extraction.text import TfidfVectorizer\n",
        "from sklearn.linear_model import LogisticRegression\n",
        "from sklearn.metrics import accuracy_score\n",
        "\n",
        "# Download NLTK resources\n",
        "nltk.download('punkt')\n",
        "nltk.download('stopwords')\n",
        "\n",
        "# Load the IMDb movie reviews dataset\n",
        "data = pd.read_csv(\"imdb_reviews.csv\")\n",
        "\n",
        "# Data Preprocessing\n",
        "def preprocess_text(text):\n",
        "    # Remove punctuation, special characters, and numbers\n",
        "    text = re.sub(r\"[^a-zA-Z\\s]\", \"\", text)\n",
        "    # Convert text to lowercase\n",
        "    text = text.lower()\n",
        "    # Tokenize the text into words\n",
        "    words = word_tokenize(text)\n",
        "    # Remove stopwords\n",
        "    stop_words = set(stopwords.words('english'))\n",
        "    words = [word for word in words if word not in stop_words]\n",
        "    return ' '.join(words)\n",
        "\n",
        "data['cleaned_review'] = data['review'].apply(preprocess_text)\n",
        "\n",
        "# Feature Extraction\n",
        "X = data['cleaned_review']  # Input features (cleaned movie reviews)\n",
        "y = data['label']   # Target variable (sentiment label)\n",
        "\n",
        "vectorizer = TfidfVectorizer(max_features=5000)  # Convert text data into numerical representations\n",
        "X = vectorizer.fit_transform(X)\n",
        "\n",
        "# Split the dataset into training and testing sets\n",
        "X_train, X_test, y_train, y_test = train_test_split(X, y, test_size=0.2, random_state=42)\n",
        "\n",
        "# Model Building\n",
        "model = LogisticRegression(max_iter=1000)  # Logistic Regression model\n",
        "model.fit(X_train, y_train)  # Train the model on the training set\n",
        "\n",
        "# Model Evaluation\n",
        "y_pred = model.predict(X_test)  # Predict the labels for the testing set\n",
        "accuracy = accuracy_score(y_test, y_pred)  # Compute the accuracy of the model\n",
        "print(\"Accuracy:\", accuracy)\n"
      ]
    }
  ]
}