{
  "nbformat": 4,
  "nbformat_minor": 0,
  "metadata": {
    "colab": {
      "provenance": []
    },
    "kernelspec": {
      "name": "python3",
      "display_name": "Python 3"
    },
    "language_info": {
      "name": "python"
    }
  },
  "cells": [
    {
      "cell_type": "code",
      "execution_count": null,
      "metadata": {
        "id": "gDTQwe8DR8i8"
      },
      "outputs": [],
      "source": [
        "from textblob import TextBlob\n",
        "import nltk\n",
        "from nltk.sentiment import SentimentIntensityAnalyzer\n",
        "from nltk.tokenize import word_tokenize\n",
        "\n",
        "# Download NLTK resources\n",
        "nltk.download('punkt')\n",
        "nltk.download('vader_lexicon')\n",
        "\n",
        "# Sample text for demonstration\n",
        "text = \"I love this movie! It's so uplifting and heartwarming. However, the ending made me sad.\"\n",
        "\n",
        "# Sentiment analysis using TextBlob\n",
        "blob = TextBlob(text)\n",
        "sentiment = blob.sentiment.polarity\n",
        "sentiment_label = \"positive\" if sentiment > 0 else \"negative\"\n",
        "\n",
        "print(\"Sentiment (TextBlob):\", sentiment_label)\n",
        "\n",
        "# Emotion detection using NLTK\n",
        "sia = SentimentIntensityAnalyzer()\n",
        "tokens = word_tokenize(text)\n",
        "emotion_scores = sia.polarity_scores(text)\n",
        "\n",
        "# Determine emotion based on the sentiment scores\n",
        "emotion_label = None\n",
        "if emotion_scores['pos'] > emotion_scores['neg']:\n",
        "    emotion_label = \"positive\"\n",
        "elif emotion_scores['pos'] < emotion_scores['neg']:\n",
        "    emotion_label = \"negative\"\n",
        "else:\n",
        "    emotion_label = \"neutral\"\n",
        "\n",
        "print(\"Emotion (NLTK):\", emotion_label)\n"
      ]
    }
  ]
}