{
  "nbformat": 4,
  "nbformat_minor": 0,
  "metadata": {
    "colab": {
      "provenance": []
    },
    "kernelspec": {
      "name": "python3",
      "display_name": "Python 3"
    },
    "language_info": {
      "name": "python"
    }
  },
  "cells": [
    {
      "cell_type": "code",
      "execution_count": null,
      "metadata": {
        "id": "gDTQwe8DR8i8"
      },
      "outputs": [],
      "source": [
        "import nltk\n",
        "from nltk.stem import PorterStemmer, LancasterStemmer\n",
        "from nltk.stem import SnowballStemmer\n",
        "\n",
        "# Sample words for stemming\n",
        "words = [\"running\", \"ran\", \"runs\", \"runner\", \"easily\", \"fairly\", \"fairness\"]\n",
        "\n",
        "# Porter Stemmer\n",
        "porter_stemmer = PorterStemmer()\n",
        "stemmed_words_porter = [porter_stemmer.stem(word) for word in words]\n",
        "print(\"Porter Stemmer:\", stemmed_words_porter)\n",
        "\n",
        "# Lancaster Stemmer\n",
        "lancaster_stemmer = LancasterStemmer()\n",
        "stemmed_words_lancaster = [lancaster_stemmer.stem(word) for word in words]\n",
        "print(\"Lancaster Stemmer:\", stemmed_words_lancaster)\n",
        "\n",
        "\n",
        "# Snowball Stemmer for English\n",
        "snowball_stemmer = SnowballStemmer(\"english\")\n",
        "stemmed_words_snowball = [snowball_stemmer.stem(word) for word in words]\n",
        "print(\"Snowball Stemmer:\", stemmed_words_snowball)\n"
      ]
    }
  ]
}