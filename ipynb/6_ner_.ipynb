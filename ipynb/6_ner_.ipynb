{
  "nbformat": 4,
  "nbformat_minor": 0,
  "metadata": {
    "colab": {
      "provenance": []
    },
    "kernelspec": {
      "name": "python3",
      "display_name": "Python 3"
    },
    "language_info": {
      "name": "python"
    }
  },
  "cells": [
    {
      "cell_type": "code",
      "execution_count": null,
      "metadata": {
        "id": "gDTQwe8DR8i8"
      },
      "outputs": [],
      "source": [
        "import spacy\n",
        "from spacy import displacy\n",
        "\n",
        "# Load the English language model\n",
        "nlp = spacy.load(\"en_core_web_sm\")\n",
        "\n",
        "# Sample text for NER\n",
        "text = \"\"\"\n",
        "Apple was founded by Steve Jobs, Steve Wozniak, and Ronald Wayne in 1976.\n",
        "It is headquartered in Cupertino, California, United States.\n",
        "Apple designs, manufactures, and sells consumer electronics, computer software,\n",
        "and online services. Its best-known hardware products include the iPhone,\n",
        "iPad, Mac, and Apple Watch.\n",
        "\"\"\"\n",
        "\n",
        "# Process the text with spaCy\n",
        "doc = nlp(text)\n",
        "\n",
        "# Extract named entities\n",
        "named_entities = [(ent.text, ent.label_) for ent in doc.ents]\n",
        "\n",
        "# Display named entities\n",
        "print(\"Named Entities:\")\n",
        "for entity, label in named_entities:\n",
        "    print(f\"{entity} - {label}\")\n",
        "\n",
        "# Visualize named entities\n",
        "displacy.render(doc, style=\"ent\", jupyter=True)\n"
      ]
    }
  ]
}