{
  "nbformat": 4,
  "nbformat_minor": 0,
  "metadata": {
    "colab": {
      "provenance": []
    },
    "kernelspec": {
      "name": "python3",
      "display_name": "Python 3"
    },
    "language_info": {
      "name": "python"
    }
  },
  "cells": [
    {
      "cell_type": "code",
      "execution_count": null,
      "metadata": {
        "id": "gDTQwe8DR8i8"
      },
      "outputs": [],
      "source": [
        "import gensim.downloader as api\n",
        "import gensim\n",
        "import nltk\n",
        "from nltk.tokenize import word_tokenize\n",
        "\n",
        "# Download NLTK resources\n",
        "nltk.download('punkt')\n",
        "\n",
        "# Sample text for word embeddings\n",
        "text = \"I love natural language processing. It is fascinating.\"\n",
        "\n",
        "# Method 1: Google News Word2Vec\n",
        "print(\"Google News Word2Vec:\")\n",
        "try:\n",
        "    # Load Google News Word2Vec model (large model, download may take some time)\n",
        "    model_google_news = api.load('word2vec-google-news-300')\n",
        "    # Tokenize the text\n",
        "    words = word_tokenize(text)\n",
        "    # Filter out words not in vocabulary\n",
        "    words_in_vocab = []\n",
        "    for word in words:\n",
        "        if word in model_google_news.vocab:\n",
        "            words_in_vocab.append(word)\n",
        "    # Generate word embeddings\n",
        "    word_embeddings_google_news = []\n",
        "    for word in words_in_vocab:\n",
        "        word_embeddings_google_news.append(model_google_news[word])\n",
        "    print(word_embeddings_google_news)\n",
        "except Exception as e:\n",
        "    print(\"Failed to load Google News Word2Vec model:\", e)\n",
        "\n",
        "# Method 2: Gensim Word2Vec\n",
        "print(\"\\nGensim Word2Vec:\")\n",
        "# Tokenize the text\n",
        "words = word_tokenize(text)\n",
        "# Train Word2Vec model (small example for demonstration)\n",
        "corpus = [words]\n",
        "model_gensim = gensim.models.Word2Vec(corpus, vector_size=100, window=5, min_count=1, workers=4)\n",
        "# Generate word embeddings\n",
        "word_embeddings_gensim = []\n",
        "for word in words:\n",
        "    word_embeddings_gensim.append(model_gensim.wv[word])\n",
        "print(word_embeddings_gensim)\n"
      ]
    }
  ]
}