{
  "nbformat": 4,
  "nbformat_minor": 0,
  "metadata": {
    "colab": {
      "provenance": []
    },
    "kernelspec": {
      "name": "python3",
      "display_name": "Python 3"
    },
    "language_info": {
      "name": "python"
    }
  },
  "cells": [
    {
      "cell_type": "code",
      "execution_count": null,
      "metadata": {
        "id": "gDTQwe8DR8i8"
      },
      "outputs": [],
      "source": [
        "import nltk\n",
        "from nltk.util import ngrams\n",
        "from collections import Counter\n",
        "\n",
        "# Sample text for demonstration\n",
        "text = \"I love natural language processing. It is fascinating.\"\n",
        "\n",
        "# Tokenize the text into words\n",
        "words = nltk.word_tokenize(text)\n",
        "\n",
        "# Define the order of the N-gram model (N)\n",
        "N = 2\n",
        "\n",
        "# Generate N-grams from the tokenized words\n",
        "ngrams_list = list(ngrams(words, N))\n",
        "\n",
        "# Count occurrences of each N-gram\n",
        "ngram_counts = Counter(ngrams_list)\n",
        "\n",
        "# Calculate the probability of a sequence of words using N-gram model\n",
        "def calculate_probability(sequence):\n",
        "    if len(sequence) != N:\n",
        "        raise ValueError(\"Length of sequence must be equal to N\")\n",
        "\n",
        "    # Convert the sequence to tuple for comparison with N-grams\n",
        "    sequence_tuple = tuple(sequence)\n",
        "\n",
        "    # Count occurrences of the sequence in the N-grams\n",
        "    sequence_count = ngram_counts.get(sequence_tuple, 0)\n",
        "\n",
        "    # Count occurrences of the first (N-1) words in the sequence\n",
        "    prefix_count = sum(1 for gram in ngrams_list if gram[:-1] == sequence_tuple[:-1])\n",
        "\n",
        "    # Calculate the probability using Laplace smoothing (add-one smoothing)\n",
        "    probability = (sequence_count + 1) / (prefix_count + len(set(ngrams_list)))\n",
        "\n",
        "    return probability\n",
        "\n",
        "# Example: Calculate the probability of a sequence \"natural language\"\n",
        "sequence = [\"natural\", \"language\"]\n",
        "probability = calculate_probability(sequence)\n",
        "print(f\"Probability of sequence '{' '.join(sequence)}': {probability}\")\n"
      ]
    }
  ]
}